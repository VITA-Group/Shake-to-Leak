{
 "cells": [
  {
   "cell_type": "code",
   "execution_count": 5,
   "id": "690a127b",
   "metadata": {
    "scrolled": true
   },
   "outputs": [
    {
     "name": "stdout",
     "output_type": "stream",
     "text": [
      "                                                       TEXT\n",
      "0         Barry White - Let the music play - Eric Faria ...\n",
      "1         Inventive image pertaining to super hero print...\n",
      "2                                              Gucci  Bloom\n",
      "3                 Vector Illustration With Watercolor Food.\n",
      "4         KULT: DIVINITY LOST -  CORE BOOK BLACK EDITION...\n",
      "...                                                     ...\n",
      "18141866                   Men's golf travels to South Bend\n",
      "18141867                                       Throw Pillow\n",
      "18141868                  Personalized Football Luggage Tag\n",
      "18141869  Metal Kwikstage Scaffolding Tie Bar for Constr...\n",
      "18141870  Fiserv acquires Pennsylvania-based fintech com...\n",
      "\n",
      "[18141871 rows x 1 columns]\n"
     ]
    }
   ],
   "source": [
    "import pyarrow.parquet as pq\n",
    "import pandas as pd\n",
    "# Reading a Parquet file directly with PyArrow\n",
    "\n",
    "\n",
    "dfs=[]\n",
    "for i in range(3):\n",
    "    table = pq.read_table(f'data/prompts/laion2b_en_part_0000{i}.parquet')\n",
    "    df = table.to_pandas()\n",
    "    dfs.append(df)\n",
    "\n",
    "data=pd.concat(dfs,ignore_index=True)\n",
    "print(data)"
   ]
  },
  {
   "cell_type": "code",
   "execution_count": 7,
   "id": "033daf3d",
   "metadata": {},
   "outputs": [
    {
     "name": "stdout",
     "output_type": "stream",
     "text": [
      "                                                       TEXT\n",
      "0         Blue Beach Umbrellas, Point Of Rocks, Crescent...\n",
      "1             BMW-M2-M-Performance-Dekor-Long-Beach-Blue-05\n",
      "2         Becoming More Than a Good Bible Study Girl: Li...\n",
      "3         \"Dynabrade 52632 4-1/2\"\" Dia. Right Angle Depr...\n",
      "4                                          MANETTE XBOX ONE\n",
      "...                                                     ...\n",
      "54425594                   Men's golf travels to South Bend\n",
      "54425595                                       Throw Pillow\n",
      "54425596                  Personalized Football Luggage Tag\n",
      "54425597  Metal Kwikstage Scaffolding Tie Bar for Constr...\n",
      "54425598  Fiserv acquires Pennsylvania-based fintech com...\n",
      "\n",
      "[54425599 rows x 1 columns]\n",
      "Blue Beach Umbrellas, Point Of Rocks, Crescent Beach, Siesta Key - Spiral Notebook\n"
     ]
    }
   ],
   "source": [
    "print(data)\n",
    "print(data.TEXT[0])"
   ]
  },
  {
   "cell_type": "code",
   "execution_count": 10,
   "id": "5888cbd2",
   "metadata": {},
   "outputs": [
    {
     "name": "stdout",
     "output_type": "stream",
     "text": [
      "4860 8123\n",
      "178592.43037453754 298499.2411383474\n"
     ]
    }
   ],
   "source": [
    "cnt1=0\n",
    "cnt2=0\n",
    "orig_size=2\n",
    "for text in data.TEXT:\n",
    "    if \"joe biden\" in text.lower():\n",
    "        cnt1+=1\n",
    "    elif \"taylor swift\" in text.lower():\n",
    "        cnt2+=1\n",
    "\n",
    "print(cnt1, cnt2)\n",
    "print000000000(cnt1/len(data)*orig_size, cnt2/len(data)*orig_size)"
   ]
  },
  {
   "cell_type": "code",
   "execution_count": 9,
   "id": "e3062569",
   "metadata": {},
   "outputs": [
    {
     "name": "stdout",
     "output_type": "stream",
     "text": [
      "2000000000\n"
     ]
    }
   ],
   "source": []
  },
  {
   "cell_type": "code",
   "execution_count": null,
   "id": "649af3a5",
   "metadata": {},
   "outputs": [],
   "source": []
  }
 ],
 "metadata": {
  "kernelspec": {
   "display_name": "Python 3 (ipykernel)",
   "language": "python",
   "name": "python3"
  },
  "language_info": {
   "codemirror_mode": {
    "name": "ipython",
    "version": 3
   },
   "file_extension": ".py",
   "mimetype": "text/x-python",
   "name": "python",
   "nbconvert_exporter": "python",
   "pygments_lexer": "ipython3",
   "version": "3.11.4"
  }
 },
 "nbformat": 4,
 "nbformat_minor": 5
}
